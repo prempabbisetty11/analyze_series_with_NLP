{
 "cells": [
  {
   "cell_type": "markdown",
   "id": "003f26f4",
   "metadata": {},
   "source": [
    "# Named Entit recognization"
   ]
  },
  {
   "cell_type": "code",
   "execution_count": 1,
   "id": "5c71a924",
   "metadata": {},
   "outputs": [],
   "source": [
    "import spacy\n",
    "from nltk import sent_tokenize"
   ]
  },
  {
   "cell_type": "markdown",
   "id": "8d250723",
   "metadata": {},
   "source": [
    "# Load Model"
   ]
  },
  {
   "cell_type": "code",
   "execution_count": 2,
   "id": "680e79c0",
   "metadata": {},
   "outputs": [],
   "source": [
    "def load_model():\n",
    "    nlp = spacy.load(\"en_core_web_trf\")\n",
    "    return nlp"
   ]
  },
  {
   "cell_type": "code",
   "execution_count": 3,
   "id": "0c39ecd4",
   "metadata": {},
   "outputs": [
    {
     "name": "stderr",
     "output_type": "stream",
     "text": [
      "c:\\code_live\\.venv\\Lib\\site-packages\\tqdm\\auto.py:21: TqdmWarning: IProgress not found. Please update jupyter and ipywidgets. See https://ipywidgets.readthedocs.io/en/stable/user_install.html\n",
      "  from .autonotebook import tqdm as notebook_tqdm\n"
     ]
    }
   ],
   "source": [
    "nlp_model = load_model()"
   ]
  },
  {
   "cell_type": "markdown",
   "id": "6431a2a0",
   "metadata": {},
   "source": [
    "# load dataset"
   ]
  },
  {
   "cell_type": "code",
   "execution_count": 10,
   "id": "8fe57e75",
   "metadata": {},
   "outputs": [],
   "source": [
    "import os\n",
    "import sys\n",
    "import pathlib\n",
    "folder_path = pathlib.Path().parent.resolve()\n",
    "sys.path.append(os.path.join(folder_path, '../'))\n",
    "import pandas as pd\n",
    "from glob import glob"
   ]
  },
  {
   "cell_type": "code",
   "execution_count": 18,
   "id": "d557b591",
   "metadata": {},
   "outputs": [
    {
     "name": "stdout",
     "output_type": "stream",
     "text": [
      "Found 218 files\n",
      "['C:/code_live/data/Subtitles\\\\Naruto Season 1 - 01.ass', 'C:/code_live/data/Subtitles\\\\Naruto Season 1 - 02.ass', 'C:/code_live/data/Subtitles\\\\Naruto Season 1 - 03.ass']\n"
     ]
    }
   ],
   "source": [
    "import os\n",
    "from glob import glob\n",
    "\n",
    "dataset_path = \"C:/code_live/data/Subtitles\"\n",
    "files = glob(os.path.join(dataset_path, \"*.ass\"))\n",
    "\n",
    "print(f\"Found {len(files)} files\")\n",
    "print(files[:3])  # print first 3 file paths\n"
   ]
  },
  {
   "cell_type": "code",
   "execution_count": 19,
   "id": "e3aff736",
   "metadata": {},
   "outputs": [
    {
     "name": "stdout",
     "output_type": "stream",
     "text": [
      "[Script Info]\n",
      "Title: English (US)\n",
      "Original Script: tvtm  [http://www.crunchyroll.com/user/tvtm]\n",
      "Original Translation:\n",
      "Original Editing:\n",
      "Original Timing:\n",
      "Synch Point:\n",
      "Script Updated By:\n",
      "Update Details:\n",
      "ScriptType: v4.00+\n",
      "Collisions: Normal\n",
      "PlayResX: 640\n",
      "PlayResY: 360\n",
      "Timer: 0.0000\n",
      "WrapStyle: 0\n",
      "\n",
      "[V4+ Styles]\n",
      "Format: Name,Fontname,Fontsize,PrimaryColour,SecondaryColour,OutlineColour,BackColour,Bold,Italic,Underline,Strikeout,ScaleX,ScaleY,Spacing,Angle,BorderStyle,Outline,Shadow,Alignment,MarginL,MarginR,MarginV,Encoding\n",
      "Style: Default,Arial,20,&H00FFFFFF,&H0000FFFF,&H00000000,&H7F404040,-1,0,0,0,100,100,0,0,1,2,1,2,0020,0020,0020,0\n",
      "Style: OS,Arial,18,&H00FFFFFF,&H0000FFFF,&H00000000,&H7F404040,-1,0,0,0,100,100,0,0,1,2,1,8,0001,0001,0015,0\n",
      "Style: Italics,Arial,20,&H00FFFFFF,&H0000FFFF,&H00000000,&H7F404040,-1,-1,0,0,100,100,0,0,1,2,1,2,0020,0020,0022,0\n",
      "Style: On Top,Arial,20,&H00FFFFFF,&H0000FFFF,&H00000000,&H7F404040,-1,0,0,0,100,100,0,0,1,2,1,8,0020,0020,0022,0\n",
      "Style: DefaultLow,Arial,20,&H00FFFFFF,&H0000FFFF,&H00000000,&H7F404040,-1,0,0,0,100,100,0,0,1,2,1,2,0020,0020,0010,0\n",
      "Style: Copy of OS,Arial,14,&H00FFFFFF,&H0000FFFF,&H00000000,&H7F404040,-1,0,0,0,100,100,0,0,1,2,1,8,0001,0001,0015,0\n",
      "\n",
      "[Events]\n",
      "Format: Layer,Start,End,Style,Name,MarginL,MarginR,MarginV,Effect,Text\n",
      "Dialogue: 0,0:00:05.95,0:00:11.99,Default,,0000,0000,0000,,A long time ago, a powerful demon fox\\Nappeared with nine tails.\n",
      "Dialogue: 0,0:00:12.99,0:00:13.99,Default,,0000,0000,0000,,With its powerful tails,\n",
      "Dialogue: 0,0:00:13.99,0:00:17.12,Default,,0000,0000,0000,,it could smash mountains\\Nand create tidal waves.\n",
      "Dialogue: 0,0:00:17.79,0:00:22.58,Default,,0000,0000,0000,,A band of Ninjas rose to\\Ndefend their village from attack.\n",
      "Dialogue: 0,0:00:22.99,0:00:25.62,Default,,0000,0000,0000,,We have to wait until\\Nthe Fourth Hokage gets here!\n",
      "Dialogue: 0,0:00:25.87,0:00:28.08,Default,,0000,0000,0000,,We can't let it get any closer\\Nto our village!\n",
      "Dialogue: 0,0:00:31.99,0:00:38.66,Default,,0000,0000,0000,,One great Ninja was able to\\Nimprison the monster,\n",
      "Dialogue: 0,0:00:38.99,0:00:40.99,Default,,0000,0000,0000,,but died in the process.\n"
     ]
    }
   ],
   "source": [
    "with open(files[0], 'r', encoding='utf-8') as f:\n",
    "    for i in range(35):  # Show more lines if needed\n",
    "        print(f.readline().strip())"
   ]
  },
  {
   "cell_type": "code",
   "execution_count": 20,
   "id": "a8c0f0c4",
   "metadata": {},
   "outputs": [],
   "source": [
    "def load_subtitles_dataset(dataset_path):\n",
    "    import pandas as pd\n",
    "    from glob import glob\n",
    "    import os\n",
    "    import re\n",
    "\n",
    "    subtitles_path = glob(os.path.join(dataset_path, \"*.ass\"))\n",
    "\n",
    "    scripts = []\n",
    "    episode_num = []\n",
    "\n",
    "    for path in subtitles_path:\n",
    "        try:\n",
    "            with open(path, 'r', encoding='utf-8') as file:\n",
    "                lines = file.readlines()\n",
    "        except UnicodeDecodeError:\n",
    "            with open(path, 'r', encoding='utf-8-sig') as file:\n",
    "                lines = file.readlines()\n",
    "\n",
    "        # Filter only Dialogue lines\n",
    "        dialogue_lines = [line for line in lines if line.startswith(\"Dialogue:\")]\n",
    "\n",
    "        # Extract the 10th field and clean\n",
    "        script_lines = [\",\".join(line.split(',')[9:]).replace('\\\\N', ' ') for line in dialogue_lines]\n",
    "        script = \" \".join(script_lines)\n",
    "\n",
    "        # Extract episode number\n",
    "        match = re.search(r'(\\d+)\\.ass$', path)\n",
    "        episode = int(match.group(1)) if match else 0\n",
    "\n",
    "        scripts.append(script)\n",
    "        episode_num.append(episode)\n",
    "\n",
    "    df = pd.DataFrame({\"episode\": episode_num, \"script\": scripts})\n",
    "    return df\n"
   ]
  },
  {
   "cell_type": "code",
   "execution_count": 21,
   "id": "a6579659",
   "metadata": {},
   "outputs": [],
   "source": [
    "df = load_subtitles_dataset(\"C:/code_live/data/Subtitles\")\n"
   ]
  },
  {
   "cell_type": "code",
   "execution_count": 23,
   "id": "8f984193",
   "metadata": {},
   "outputs": [
    {
     "data": {
      "text/html": [
       "<div>\n",
       "<style scoped>\n",
       "    .dataframe tbody tr th:only-of-type {\n",
       "        vertical-align: middle;\n",
       "    }\n",
       "\n",
       "    .dataframe tbody tr th {\n",
       "        vertical-align: top;\n",
       "    }\n",
       "\n",
       "    .dataframe thead th {\n",
       "        text-align: right;\n",
       "    }\n",
       "</style>\n",
       "<table border=\"1\" class=\"dataframe\">\n",
       "  <thead>\n",
       "    <tr style=\"text-align: right;\">\n",
       "      <th></th>\n",
       "      <th>episode</th>\n",
       "      <th>script</th>\n",
       "    </tr>\n",
       "  </thead>\n",
       "  <tbody>\n",
       "    <tr>\n",
       "      <th>0</th>\n",
       "      <td>1</td>\n",
       "      <td>A long time ago, a powerful demon fox appeared...</td>\n",
       "    </tr>\n",
       "    <tr>\n",
       "      <th>1</th>\n",
       "      <td>2</td>\n",
       "      <td>C'mon!\\n Running like a fugitive,\\n Being chas...</td>\n",
       "    </tr>\n",
       "    <tr>\n",
       "      <th>2</th>\n",
       "      <td>3</td>\n",
       "      <td>C'mon!\\n Running like a fugitive,\\n Being chas...</td>\n",
       "    </tr>\n",
       "    <tr>\n",
       "      <th>3</th>\n",
       "      <td>4</td>\n",
       "      <td>C'mon!\\n Running like a fugitive,\\n Being chas...</td>\n",
       "    </tr>\n",
       "    <tr>\n",
       "      <th>4</th>\n",
       "      <td>5</td>\n",
       "      <td>C'mon!\\n Running like a fugitive,\\n Being chas...</td>\n",
       "    </tr>\n",
       "  </tbody>\n",
       "</table>\n",
       "</div>"
      ],
      "text/plain": [
       "   episode                                             script\n",
       "0        1  A long time ago, a powerful demon fox appeared...\n",
       "1        2  C'mon!\\n Running like a fugitive,\\n Being chas...\n",
       "2        3  C'mon!\\n Running like a fugitive,\\n Being chas...\n",
       "3        4  C'mon!\\n Running like a fugitive,\\n Being chas...\n",
       "4        5  C'mon!\\n Running like a fugitive,\\n Being chas..."
      ]
     },
     "execution_count": 23,
     "metadata": {},
     "output_type": "execute_result"
    }
   ],
   "source": [
    "df.head()"
   ]
  },
  {
   "cell_type": "code",
   "execution_count": 24,
   "id": "89e48527",
   "metadata": {},
   "outputs": [
    {
     "data": {
      "text/plain": [
       "'A long time ago, a powerful demon fox appeared with nine tails.\\n With its powerful tails,\\n it could smash mountains and create tidal waves.\\n A band of Ninjas rose to defend their village from attack.\\n We have to wait until the Fourth Hokage gets here!\\n We can\\'t let it get any closer to our village!\\n One great Ninja was able to imprison the monster,\\n but died in the process.\\n This Ninja was known as… the Fourth Hokage.\\n Naruto!\\n Why did you do such a thing?!\\n You\\'re really gonna get it this time!\\n I don\\'t care!\\n You know your problem?\\n You can\\'t do the things I do!\\n Only I can do this!\\n I\\'m better than all of you! Believe it!\\n There\\'s a problem, sir!\\n Lord Hokage!\\n What is it?\\n Did that Naruto do something again?\\n Yes. He climbed onto the Mountainside Images…\\n And he vandalized and graffitied all over them!\\n Wait!\\n Ha ha…\\n Why should I?\\n Hey, Naruto!\\n How did you suddenly get here, lruka Sensei?\\n The question is what are you doing here when you should be in class now?\\n Now listen, Naruto.\\n You failed the last graduation test and the one before that.\\n This is no time to be goofing off, you fool!\\n We will have a re-test on the Transformation Jutsu!\\n Even those who already passed will take it!\\n Whaaaat?!\\n Sakura Haruno. Here I go…\\n Transform!\\n OK!\\n I did it!\\n Cha!\\n Did you see that, Sasuke?\\n Next, Sasuke Uchiha.\\n Yes.\\n O-OK.\\n Next, Naruto Uzumaki.\\n This is a real pain.\\n And it\\'s all your fault.\\n Like I care!!\\n OK…\\n Good luck, Naruto…\\n Transform!\\n How was it?\\n I call it the \"Sexy Jutsu\"!\\n You fool! Stop making idiotic spells!\\n Darn…\\n Darn…\\n I won\\'t let you go home unless you clean that all up.\\n I don\\'t care…\\n There\\'s nobody home anyway.\\n Naruto...\\n What is it this time?\\n What I meant was…\\n If you clean up all that mess, I\\'ll buy you ramen tonight.\\n Huh?!\\n Yes! I-I will finish it no time!\\n Enter: Naruto Uzumaki!\\n Naruto.\\n Why did you vandalize those faces?\\n Don\\'t you know who the Hokage leaders are?\\n Of course, I do!\\n I know they earned the title Lord Hokage\\n because they were the best Ninja of their time, right?\\n Especially the Fourth Hokage was a hero\\n who saved the village from the nine-tail demon fox.\\n Then why did you do that?\\n Because I\\'ll become a Hokage myself.\\n And I\\'ll be the greatest Hokage of all time!\\n So that everyone will finally learn to accept me!\\n By the way, Sensei, I have a favor to ask.\\n You want another bowl?\\n Mmmm…No…\\n Can I borrow that Leaf headband for a while?\\n This?\\n No no!\\n This is worn only by those who have graduated from Ninja Academy.\\n Tomorrow, you will…\\n You\\'re so mean!\\n So that\\'s why you took off your goggles…\\n Humph... One more bowl please!\\n We are now about to begin the graduation test.\\n When your name is called, proceed to the next classroom.\\n The test is on the Clone Jutsu.\\n Oh no…\\n Of all the…! That is my weakest Jutsu!\\n But still… I will do it no matter what!\\n Clone Jutsu!\\n Disqualified!\\n Iruka Sensei.\\n His physical coordination and stamina are excellent.\\n And he managed to come up with something.\\n Isn\\'t that enough for him to pass?\\n Mizuki Sensei... All the others created three or more clones.\\n Naruto created just one.\\n And it\\'s practically useless. I can\\'t give him a passing mark.\\n I \\'m a Ninja now!\\n You did well. That\\'s my son.\\n Congratulations for your graduation.\\n I\\'ll cook something good tonight!\\n Look at that one.\\n It\\'s that boy. I hear he\\'s the only one who failed.\\n Serves him right.\\n Imagine what would happen if he became a Ninja.\\n Isn\\'t that the boy who is actually…\\n Hey! We\\'re not supposed to talk about that.\\n Iruka. We need to talk later.\\n Yes, sir.\\n Iruka Sensei isn\\'t trying to be mean to you.\\n Then why only me?\\n He wants you to become strong from the bottom of his heart.\\n You both don\\'t have parents.\\n But I really wanted to graduate.\\n Heh... I guess I have no choice…\\n I\\'ll let you in on a big secret.\\n Secret?\\n Iruka.\\n What is it, Lord Hokage?\\n I know how you feel. But…\\n Naruto also grew up without knowing the love of his parents…like you.\\n Let me go!\\n My mom and dad are still out there fighting!\\n Wake up, Iruka Sensei!\\n What\\'s the matter?\\n Come to Lord Hokage\\'s immediately!\\n I heard that Naruto… stole the Scroll of Sealing.\\n The Scroll of Sealing?!\\n Let\\'s see…\\n The first Jutsu is… Multi-Shadow Clone Jutsu?\\n What?! Already a Jutsu I\\'m no good at?\\n Lord Hokage! We can\\'t forgive him!\\n This is not just a prank!\\n The Scroll is a dangerous item that the First Hokage sealed!\\n Depending on its use…\\n It will be a major disaster if it is taken out of the village!\\n Yes. Bring Naruto here at once!\\n Yes, sir!\\n Where did you go…Naruto?\\n I will tell everyone in the village about this and eliminate Naruto…\\n Then the Scroll of Sealing will be mine!\\n Hey you, Naruto!\\n You found me..\\n And I\\'ve only learned one Jutsu.\\n He\\'s been practicing the Jutsu…\\n until he\\'s become this exhausted and dirty…?\\n Listen, listen! I\\'m gonna show you this amazing Jutsu!\\n You\\'re gonna let me graduate if I can do it!\\n Isn\\'t it true that I can graduate if I can do one of the Jutsu written here?\\n Who told you that?\\n Mizuki Sensei. He told me about this scroll, and this place…\\n Mizuki did?!\\n I\\'m impressed you found this place.\\n I see now…how it is.\\n Naruto, give me that scroll.\\n Wait, wait… What\\'s going on here?\\n Naruto! Never give him that scroll!\\n It is a dangerous object that contains forbidden Ninja Jutsu. It was sealed.\\n Mizuki used you in order to get it for himself!\\n W-Wha--?\\n Naruto, Iruka is only afraid of you holding that scroll!\\n Huh?\\n What are you saying, Mizuki! Don\\'t let him fool you, Naruto!\\n I will tell you the truth.\\n Idiot! Don\\'t do that!\\n After an incident 12 years ago, a rule was created.\\n A rule?\\n That is, Naruto, a rule everybody but you knows.\\n Except me?! \\t\\t\\t\\t\\tWhat is it?\\n Stop it, Mizuki!\\n The rule forbids anyone from revealing that you are actually the Demon Fox Spirit!\\n Huh?\\n You are actually the Demon, Nine-Tailed Fox Spirit,\\n who killed Iruka\\'s parents and destroyed our village!\\n Stop it!\\n Everyone has been deceiving you ever since.\\n Didn\\'t you find it strange?\\n Why everyone hated you so much?\\n No! No! No! No! No!\\n Naruto…\\n Nobody accepts you. That\\'s why Iruka hates you so much!\\n Iruka... Naruto grew up without the love of parents.\\n Everyone avoids him like the plague after what happened.\\n That\\'s why he keeps misbehaving.\\n It\\'s the only way for him to get any attention or acknowledgement.\\n He pretends to be tough, but inside he is really hurting.\\n Die, Naruto!\\n Naruto! \\t\\t\\t\\t\\tGet down!\\n Why…?\\n Because you and I are the same.\\n After my parents died,\\n nobody paid attention to me or gave me any support.\\n I wasn\\'t a good student in school.\\n I was the class clown… because I wanted people to notice me.\\n I couldn\\'t get noticed through excellence, so I kept doing stupid things.\\n It was so hard.\\n Isn\\'t that right, Naruto?\\n You felt so lonely…right? And you suffered inside, right?\\n I\\'m sorry, Naruto….\\n If I had been more responsible, maybe you wouldn\\'t have suffered so much.\\n Don\\'t make me laugh!\\n Iruka has always hated you, ever since you killed his parents!\\n He\\'s just saying all that to get the Scroll of Sealing back!\\n Naruto!\\n Narutoooooo!\\n He is not the type of kid who will change his mind.\\n He will take revenge against our village using that scroll!\\n Didn\\'t you see his eyes? Those are the eyes of a Demon Fox.\\n No… Naruto…isn\\'t…like that at all!\\n All I want is to kill Naruto and get the scroll.\\n I\\'ll take care of you later!\\n I-I won\\'t let you…\\n Well, well.\\n Mizuki has a big mouth!\\n Naruto feels worse than he\\'s ever felt.\\n He might unleash the power locked up inside him.\\n The Scroll of Sealing is now with him.\\n There\\'s a slight chance he might actually release\\n the Nine-Tailed Fox Spirit sealed inside him!\\n If that happens…\\n I\\'ve found him!\\n Naruto!\\n Everything that Mizuki said was a lie!\\n Give me that scroll, quick! Mizuki is after the scroll!\\n It can\\'t be…\\n Why is it, Naruto?\\n How…\\n did you know I wasn\\'t Iruka…?\\n Because I\\'m Iruka.\\n I see.\\n What\\'s in it for you to protect the one who killed your family?\\n I\\'m not gonna let a stupid idiot like you get that scroll!\\n You\\'re the idiot. Naruto is the same as me.\\n Same?\\n Anyone can do whatever he wants once he has the scroll.\\n There is no way that that monster…\\n that Fox Spirit, won\\'t take advantage of the power of that scroll!\\n You\\'re right…\\n I guess it was true all along!\\n See, Iruka Sensei never really cared for me at all!\\n ...if he was the Demon Fox Spirit.\\n But Naruto is different!\\n I know that he is an exceptional student.\\n He works very hard,\\n and he\\'s single-minded and clumsy at the same time.\\n No one accepts him, but he knows the meaning of human suffering.\\n He is not the Demon Fox Spirit.\\n He\\'s Naruto Uzumaki of the Village Hidden in the Leaves!\\n You are so gullible. \\t\\t\\t\\t\\tlruka!\\n I was gonna take you down later, but I have changed my mind.\\n Die!\\n I guess this is the end for me…\\n Naruto?!\\n You surprised me there, freak.\\n If you ever lay a hand on Iruka Sensei, I\\'ll kill you!\\n Shut up! I can take care of a kid like you with a single blow!\\n Why don\\'t you try then? I\\'ll strike you back a thousand-fold!\\n Let\\'s see you try! Show me what you can do, Demon Fox!\\n Shadow Clone Jutsu!\\n Naruto! You\\'ve…\\n Those aren\\'t just images but actual clones! That\\'s an advanced Ninjutsu!\\n What\\'s this…?\\n What\\'s the matter? \\t\\t\\t\\t\\tC\\'mon!\\n Weren\\'t you gonna get me with one blow? Here!\\n In that case… I\\'ll come to you.\\n I kinda got carried away. lruka Sensei, are you okay?\\n Yeah.\\n He\\'s really something.\\n Maybe it is true.\\n Maybe he will surpass all the Hokage leaders…\\n Naruto, come over here. I\\'d like to give you something.\\n Has anyone found Naruto yet?\\n No.\\n Darn, this is going to be bad…\\n There\\'s no need to worry anymore.\\n Lord Hokage!\\n He\\'ll be back soon.\\n Sensei, how much longer?\\n OK, you may open your eyes now.\\n Congratulations…on your graduation.\\n In celebration, we\\'ll have ramen tonight!\\n Iruka Sensei!\\n That hurts!\\n Naruto…\\n I was going to lecture to you...\\n that the road gets more difficult now that you\\'re a Ninja.\\n But I guess I\\'ll just wait to tell you that until we get to the ramen stand…\\n W-What do you want, you little shrimp? Quit following me!\\n You\\'re smaller than me and\\n you\\'re saying that you\\'re gonna become the Fifth Hokage?\\n I don\\'t care if you are the 3rd Hokage\\'s grandson or not.\\n It\\'s not that easy to be a Hokage!\\n If you want it that bad, you\\'re gonna have to beat me first!\\n Next episode:  \"My Name Is Konohamaru!\"\\n Watch my outstanding performance!\\n'"
      ]
     },
     "execution_count": 24,
     "metadata": {},
     "output_type": "execute_result"
    }
   ],
   "source": [
    "sample_script = df.iloc[0]['script']\n",
    "sample_script"
   ]
  },
  {
   "cell_type": "code",
   "execution_count": 34,
   "id": "5d6e4ccd",
   "metadata": {},
   "outputs": [],
   "source": [
    "sentences = sent_tokenize(sample_script)\n"
   ]
  },
  {
   "cell_type": "code",
   "execution_count": 35,
   "id": "26e160c4",
   "metadata": {},
   "outputs": [
    {
     "data": {
      "text/plain": [
       "[\"Don't you know who the Hokage leaders are?\",\n",
       " 'Of course, I do!',\n",
       " 'I know they earned the title Lord Hokage\\n because they were the best Ninja of their time, right?',\n",
       " 'Especially the Fourth Hokage was a hero\\n who saved the village from the nine-tail demon fox.',\n",
       " 'Then why did you do that?',\n",
       " \"Because I'll become a Hokage myself.\",\n",
       " \"And I'll be the greatest Hokage of all time!\",\n",
       " 'So that everyone will finally learn to accept me!',\n",
       " 'By the way, Sensei, I have a favor to ask.',\n",
       " 'You want another bowl?',\n",
       " 'Mmmm…No…\\n Can I borrow that Leaf headband for a while?',\n",
       " 'This?',\n",
       " 'No no!',\n",
       " 'This is worn only by those who have graduated from Ninja Academy.',\n",
       " \"Tomorrow, you will…\\n You're so mean!\",\n",
       " \"So that's why you took off your goggles…\\n Humph... One more bowl please!\",\n",
       " 'We are now about to begin the graduation test.',\n",
       " 'When your name is called, proceed to the next classroom.',\n",
       " 'The test is on the Clone Jutsu.',\n",
       " 'Oh no…\\n Of all the…!',\n",
       " 'That is my weakest Jutsu!',\n",
       " 'But still… I will do it no matter what!',\n",
       " 'Clone Jutsu!',\n",
       " 'Disqualified!',\n",
       " 'Iruka Sensei.',\n",
       " 'His physical coordination and stamina are excellent.',\n",
       " 'And he managed to come up with something.',\n",
       " \"Isn't that enough for him to pass?\",\n",
       " 'Mizuki Sensei... All the others created three or more clones.',\n",
       " 'Naruto created just one.']"
      ]
     },
     "execution_count": 35,
     "metadata": {},
     "output_type": "execute_result"
    }
   ],
   "source": [
    "sentences[60:90]"
   ]
  },
  {
   "cell_type": "code",
   "execution_count": 36,
   "id": "59924bcd",
   "metadata": {},
   "outputs": [],
   "source": [
    "sentence = \".\".join(sentences)"
   ]
  },
  {
   "cell_type": "code",
   "execution_count": 37,
   "id": "593199a3",
   "metadata": {},
   "outputs": [
    {
     "data": {
      "text/plain": [
       "'A long time ago, a powerful demon fox appeared with nine tails..With its powerful tails,\\n it could smash mountains and create tidal waves..A band of Ninjas rose to defend their village from attack..We have to wait until the Fourth Hokage gets here!.We can\\'t let it get any closer to our village!.One great Ninja was able to imprison the monster,\\n but died in the process..This Ninja was known as… the Fourth Hokage..Naruto!.Why did you do such a thing?!.You\\'re really gonna get it this time!.I don\\'t care!.You know your problem?.You can\\'t do the things I do!.Only I can do this!.I\\'m better than all of you!.Believe it!.There\\'s a problem, sir!.Lord Hokage!.What is it?.Did that Naruto do something again?.Yes..He climbed onto the Mountainside Images…\\n And he vandalized and graffitied all over them!.Wait!.Ha ha…\\n Why should I?.Hey, Naruto!.How did you suddenly get here, lruka Sensei?.The question is what are you doing here when you should be in class now?.Now listen, Naruto..You failed the last graduation test and the one before that..This is no time to be goofing off, you fool!.We will have a re-test on the Transformation Jutsu!.Even those who already passed will take it!.Whaaaat?!.Sakura Haruno..Here I go…\\n Transform!.OK!.I did it!.Cha!.Did you see that, Sasuke?.Next, Sasuke Uchiha..Yes..O-OK.\\n Next, Naruto Uzumaki..This is a real pain..And it\\'s all your fault..Like I care!!.OK…\\n Good luck, Naruto…\\n Transform!.How was it?.I call it the \"Sexy Jutsu\"!.You fool!.Stop making idiotic spells!.Darn…\\n Darn…\\n I won\\'t let you go home unless you clean that all up..I don\\'t care…\\n There\\'s nobody home anyway..Naruto...\\n What is it this time?.What I meant was…\\n If you clean up all that mess, I\\'ll buy you ramen tonight..Huh?!.Yes!.I-I will finish it no time!.Enter: Naruto Uzumaki!.Naruto..Why did you vandalize those faces?.Don\\'t you know who the Hokage leaders are?.Of course, I do!.I know they earned the title Lord Hokage\\n because they were the best Ninja of their time, right?.Especially the Fourth Hokage was a hero\\n who saved the village from the nine-tail demon fox..Then why did you do that?.Because I\\'ll become a Hokage myself..And I\\'ll be the greatest Hokage of all time!.So that everyone will finally learn to accept me!.By the way, Sensei, I have a favor to ask..You want another bowl?.Mmmm…No…\\n Can I borrow that Leaf headband for a while?.This?.No no!.This is worn only by those who have graduated from Ninja Academy..Tomorrow, you will…\\n You\\'re so mean!.So that\\'s why you took off your goggles…\\n Humph... One more bowl please!.We are now about to begin the graduation test..When your name is called, proceed to the next classroom..The test is on the Clone Jutsu..Oh no…\\n Of all the…!.That is my weakest Jutsu!.But still… I will do it no matter what!.Clone Jutsu!.Disqualified!.Iruka Sensei..His physical coordination and stamina are excellent..And he managed to come up with something..Isn\\'t that enough for him to pass?.Mizuki Sensei... All the others created three or more clones..Naruto created just one..And it\\'s practically useless..I can\\'t give him a passing mark..I \\'m a Ninja now!.You did well..That\\'s my son..Congratulations for your graduation..I\\'ll cook something good tonight!.Look at that one..It\\'s that boy..I hear he\\'s the only one who failed..Serves him right..Imagine what would happen if he became a Ninja..Isn\\'t that the boy who is actually…\\n Hey!.We\\'re not supposed to talk about that..Iruka..We need to talk later..Yes, sir..Iruka Sensei isn\\'t trying to be mean to you..Then why only me?.He wants you to become strong from the bottom of his heart..You both don\\'t have parents..But I really wanted to graduate..Heh....I guess I have no choice…\\n I\\'ll let you in on a big secret..Secret?.Iruka..What is it, Lord Hokage?.I know how you feel..But…\\n Naruto also grew up without knowing the love of his parents…like you..Let me go!.My mom and dad are still out there fighting!.Wake up, Iruka Sensei!.What\\'s the matter?.Come to Lord Hokage\\'s immediately!.I heard that Naruto… stole the Scroll of Sealing..The Scroll of Sealing?!.Let\\'s see…\\n The first Jutsu is… Multi-Shadow Clone Jutsu?.What?!.Already a Jutsu I\\'m no good at?.Lord Hokage!.We can\\'t forgive him!.This is not just a prank!.The Scroll is a dangerous item that the First Hokage sealed!.Depending on its use…\\n It will be a major disaster if it is taken out of the village!.Yes..Bring Naruto here at once!.Yes, sir!.Where did you go…Naruto?.I will tell everyone in the village about this and eliminate Naruto…\\n Then the Scroll of Sealing will be mine!.Hey you, Naruto!.You found me..\\n And I\\'ve only learned one Jutsu..He\\'s been practicing the Jutsu…\\n until he\\'s become this exhausted and dirty…?.Listen, listen!.I\\'m gonna show you this amazing Jutsu!.You\\'re gonna let me graduate if I can do it!.Isn\\'t it true that I can graduate if I can do one of the Jutsu written here?.Who told you that?.Mizuki Sensei..He told me about this scroll, and this place…\\n Mizuki did?!.I\\'m impressed you found this place..I see now…how it is..Naruto, give me that scroll..Wait, wait… What\\'s going on here?.Naruto!.Never give him that scroll!.It is a dangerous object that contains forbidden Ninja Jutsu..It was sealed..Mizuki used you in order to get it for himself!.W-Wha--?.Naruto, Iruka is only afraid of you holding that scroll!.Huh?.What are you saying, Mizuki!.Don\\'t let him fool you, Naruto!.I will tell you the truth..Idiot!.Don\\'t do that!.After an incident 12 years ago, a rule was created..A rule?.That is, Naruto, a rule everybody but you knows..Except me?!.What is it?.Stop it, Mizuki!.The rule forbids anyone from revealing that you are actually the Demon Fox Spirit!.Huh?.You are actually the Demon, Nine-Tailed Fox Spirit,\\n who killed Iruka\\'s parents and destroyed our village!.Stop it!.Everyone has been deceiving you ever since..Didn\\'t you find it strange?.Why everyone hated you so much?.No!.No!.No!.No!.No!.Naruto…\\n Nobody accepts you..That\\'s why Iruka hates you so much!.Iruka... Naruto grew up without the love of parents..Everyone avoids him like the plague after what happened..That\\'s why he keeps misbehaving..It\\'s the only way for him to get any attention or acknowledgement..He pretends to be tough, but inside he is really hurting..Die, Naruto!.Naruto!.Get down!.Why…?.Because you and I are the same..After my parents died,\\n nobody paid attention to me or gave me any support..I wasn\\'t a good student in school..I was the class clown… because I wanted people to notice me..I couldn\\'t get noticed through excellence, so I kept doing stupid things..It was so hard..Isn\\'t that right, Naruto?.You felt so lonely…right?.And you suffered inside, right?.I\\'m sorry, Naruto…..If I had been more responsible, maybe you wouldn\\'t have suffered so much..Don\\'t make me laugh!.Iruka has always hated you, ever since you killed his parents!.He\\'s just saying all that to get the Scroll of Sealing back!.Naruto!.Narutoooooo!.He is not the type of kid who will change his mind..He will take revenge against our village using that scroll!.Didn\\'t you see his eyes?.Those are the eyes of a Demon Fox..No… Naruto…isn\\'t…like that at all!.All I want is to kill Naruto and get the scroll..I\\'ll take care of you later!.I-I won\\'t let you…\\n Well, well..Mizuki has a big mouth!.Naruto feels worse than he\\'s ever felt..He might unleash the power locked up inside him..The Scroll of Sealing is now with him..There\\'s a slight chance he might actually release\\n the Nine-Tailed Fox Spirit sealed inside him!.If that happens…\\n I\\'ve found him!.Naruto!.Everything that Mizuki said was a lie!.Give me that scroll, quick!.Mizuki is after the scroll!.It can\\'t be…\\n Why is it, Naruto?.How…\\n did you know I wasn\\'t Iruka…?.Because I\\'m Iruka..I see..What\\'s in it for you to protect the one who killed your family?.I\\'m not gonna let a stupid idiot like you get that scroll!.You\\'re the idiot..Naruto is the same as me..Same?.Anyone can do whatever he wants once he has the scroll..There is no way that that monster…\\n that Fox Spirit, won\\'t take advantage of the power of that scroll!.You\\'re right…\\n I guess it was true all along!.See, Iruka Sensei never really cared for me at all!....if he was the Demon Fox Spirit..But Naruto is different!.I know that he is an exceptional student..He works very hard,\\n and he\\'s single-minded and clumsy at the same time..No one accepts him, but he knows the meaning of human suffering..He is not the Demon Fox Spirit..He\\'s Naruto Uzumaki of the Village Hidden in the Leaves!.You are so gullible..lruka!.I was gonna take you down later, but I have changed my mind..Die!.I guess this is the end for me…\\n Naruto?!.You surprised me there, freak..If you ever lay a hand on Iruka Sensei, I\\'ll kill you!.Shut up!.I can take care of a kid like you with a single blow!.Why don\\'t you try then?.I\\'ll strike you back a thousand-fold!.Let\\'s see you try!.Show me what you can do, Demon Fox!.Shadow Clone Jutsu!.Naruto!.You\\'ve…\\n Those aren\\'t just images but actual clones!.That\\'s an advanced Ninjutsu!.What\\'s this…?.What\\'s the matter?.C\\'mon!.Weren\\'t you gonna get me with one blow?.Here!.In that case… I\\'ll come to you..I kinda got carried away..lruka Sensei, are you okay?.Yeah..He\\'s really something..Maybe it is true..Maybe he will surpass all the Hokage leaders…\\n Naruto, come over here..I\\'d like to give you something..Has anyone found Naruto yet?.No..Darn, this is going to be bad…\\n There\\'s no need to worry anymore..Lord Hokage!.He\\'ll be back soon..Sensei, how much longer?.OK, you may open your eyes now..Congratulations…on your graduation..In celebration, we\\'ll have ramen tonight!.Iruka Sensei!.That hurts!.Naruto…\\n I was going to lecture to you...\\n that the road gets more difficult now that you\\'re a Ninja..But I guess I\\'ll just wait to tell you that until we get to the ramen stand…\\n W-What do you want, you little shrimp?.Quit following me!.You\\'re smaller than me and\\n you\\'re saying that you\\'re gonna become the Fifth Hokage?.I don\\'t care if you are the 3rd Hokage\\'s grandson or not..It\\'s not that easy to be a Hokage!.If you want it that bad, you\\'re gonna have to beat me first!.Next episode:  \"My Name Is Konohamaru!\".Watch my outstanding performance!'"
      ]
     },
     "execution_count": 37,
     "metadata": {},
     "output_type": "execute_result"
    }
   ],
   "source": [
    "sentence"
   ]
  },
  {
   "cell_type": "code",
   "execution_count": null,
   "id": "c0281355",
   "metadata": {},
   "outputs": [],
   "source": []
  },
  {
   "cell_type": "markdown",
   "id": "fcd469ef",
   "metadata": {},
   "source": [
    "# Run Model"
   ]
  },
  {
   "cell_type": "code",
   "execution_count": 38,
   "id": "5fdbd9c7",
   "metadata": {},
   "outputs": [],
   "source": [
    "doc = nlp_model(sentence)"
   ]
  },
  {
   "cell_type": "code",
   "execution_count": 39,
   "id": "c3a3fbdd",
   "metadata": {},
   "outputs": [
    {
     "data": {
      "text/plain": [
       "(nine,\n",
       " Ninjas,\n",
       " Ninja,\n",
       " Ninja,\n",
       " Fourth,\n",
       " Naruto,\n",
       " lruka Sensei?.The,\n",
       " Naruto,\n",
       " the Transformation Jutsu!.Even,\n",
       " Haruno,\n",
       " Sasuke Uchiha,\n",
       " Naruto Uzumaki,\n",
       " Naruto,\n",
       " Naruto,\n",
       " tonight,\n",
       " Naruto Uzumaki!.Naruto,\n",
       " Hokage,\n",
       " Ninja,\n",
       " Fourth,\n",
       " nine,\n",
       " Leaf,\n",
       " Ninja Academy,\n",
       " Tomorrow,\n",
       " Humph,\n",
       " One,\n",
       " three,\n",
       " Naruto,\n",
       " Ninja,\n",
       " Iruka,\n",
       " Iruka Sensei,\n",
       " Naruto,\n",
       " Iruka Sensei!.What,\n",
       " Hokage,\n",
       " Naruto,\n",
       " the Scroll of Sealing,\n",
       " The Scroll of Sealing?!.Let,\n",
       " first,\n",
       " First,\n",
       " Naruto,\n",
       " Naruto,\n",
       " the Scroll of Sealing,\n",
       " one,\n",
       " Jutsu,\n",
       " Sensei,\n",
       " Mizuki,\n",
       " Naruto,\n",
       " Mizuki,\n",
       " Iruka,\n",
       " 12 years ago,\n",
       " Naruto,\n",
       " Iruka,\n",
       " Iruka,\n",
       " Naruto,\n",
       " Naruto,\n",
       " the Scroll of Sealing,\n",
       " Naruto,\n",
       " Naruto,\n",
       " Mizuki,\n",
       " The Scroll of Sealing,\n",
       " Nine-Tailed,\n",
       " Mizuki,\n",
       " quick!.Mizuki,\n",
       " Iruka,\n",
       " Iruka,\n",
       " Naruto,\n",
       " that Fox Spirit,\n",
       " Iruka Sensei,\n",
       " Naruto,\n",
       " Naruto Uzumaki,\n",
       " the Village Hidden in the Leaves!.You,\n",
       " Iruka Sensei,\n",
       " thousand,\n",
       " Demon Fox!.Shadow,\n",
       " one,\n",
       " lruka Sensei,\n",
       " Hokage,\n",
       " Naruto,\n",
       " Naruto,\n",
       " Sensei,\n",
       " Ninja,\n",
       " Fifth,\n",
       " 3rd,\n",
       " My Name Is Konohamaru!\")"
      ]
     },
     "execution_count": 39,
     "metadata": {},
     "output_type": "execute_result"
    }
   ],
   "source": [
    "doc.ents"
   ]
  },
  {
   "cell_type": "code",
   "execution_count": 40,
   "id": "d2113ce6",
   "metadata": {},
   "outputs": [
    {
     "name": "stdout",
     "output_type": "stream",
     "text": [
      "nine CARDINAL\n",
      "Ninjas NORP\n",
      "Ninja NORP\n",
      "Ninja PERSON\n",
      "Fourth ORDINAL\n",
      "Naruto PERSON\n",
      "lruka Sensei?.The PERSON\n",
      "Naruto PERSON\n",
      "the Transformation Jutsu!.Even LAW\n",
      "Haruno PERSON\n",
      "Sasuke Uchiha PERSON\n",
      "Naruto Uzumaki PERSON\n",
      "Naruto PERSON\n",
      "Naruto PERSON\n",
      "tonight TIME\n",
      "Naruto Uzumaki!.Naruto PERSON\n",
      "Hokage PERSON\n",
      "Ninja NORP\n",
      "Fourth ORDINAL\n",
      "nine CARDINAL\n",
      "Leaf PERSON\n",
      "Ninja Academy ORG\n",
      "Tomorrow DATE\n",
      "Humph PERSON\n",
      "One CARDINAL\n",
      "three CARDINAL\n",
      "Naruto PERSON\n",
      "Ninja NORP\n",
      "Iruka PERSON\n",
      "Iruka Sensei PERSON\n",
      "Naruto PERSON\n",
      "Iruka Sensei!.What PERSON\n",
      "Hokage PERSON\n",
      "Naruto PERSON\n",
      "the Scroll of Sealing WORK_OF_ART\n",
      "The Scroll of Sealing?!.Let WORK_OF_ART\n",
      "first ORDINAL\n",
      "First ORDINAL\n",
      "Naruto PERSON\n",
      "Naruto PERSON\n",
      "the Scroll of Sealing WORK_OF_ART\n",
      "one CARDINAL\n",
      "Jutsu WORK_OF_ART\n",
      "Sensei PERSON\n",
      "Mizuki PERSON\n",
      "Naruto PERSON\n",
      "Mizuki PERSON\n",
      "Iruka PERSON\n",
      "12 years ago DATE\n",
      "Naruto PERSON\n",
      "Iruka PERSON\n",
      "Iruka PERSON\n",
      "Naruto PERSON\n",
      "Naruto PERSON\n",
      "the Scroll of Sealing WORK_OF_ART\n",
      "Naruto PERSON\n",
      "Naruto PERSON\n",
      "Mizuki PERSON\n",
      "The Scroll of Sealing WORK_OF_ART\n",
      "Nine-Tailed QUANTITY\n",
      "Mizuki PERSON\n",
      "quick!.Mizuki PERSON\n",
      "Iruka PERSON\n",
      "Iruka PERSON\n",
      "Naruto PERSON\n",
      "that Fox Spirit PERSON\n",
      "Iruka Sensei PERSON\n",
      "Naruto PERSON\n",
      "Naruto Uzumaki PERSON\n",
      "the Village Hidden in the Leaves!.You FAC\n",
      "Iruka Sensei PERSON\n",
      "thousand CARDINAL\n",
      "Demon Fox!.Shadow PERSON\n",
      "one CARDINAL\n",
      "lruka Sensei PERSON\n",
      "Hokage PERSON\n",
      "Naruto PERSON\n",
      "Naruto PERSON\n",
      "Sensei PERSON\n",
      "Ninja NORP\n",
      "Fifth ORDINAL\n",
      "3rd ORDINAL\n",
      "My Name Is Konohamaru!\" WORK_OF_ART\n"
     ]
    }
   ],
   "source": [
    "for entity in doc.ents:\n",
    "    print(entity, entity.label_)"
   ]
  },
  {
   "cell_type": "code",
   "execution_count": 44,
   "id": "ae2f935d",
   "metadata": {},
   "outputs": [],
   "source": [
    "def get_ners_inference(script):\n",
    "    script_sentences = sent_tokenize(script)\n",
    "\n",
    "    ner_output = []\n",
    "\n",
    "    for sentence in script_sentences:\n",
    "        doc = nlp_model(sentence)\n",
    "        ners = set()\n",
    "        for entity in doc.ents:\n",
    "            if entity.label_ == \"PERSON\":\n",
    "                full_name = entity.text\n",
    "                first_name = entity.text.split(\" \")[0]\n",
    "                first_name = first_name.strip()\n",
    "                ners.add(first_name)\n",
    "        ner_output.append(ners)\n",
    "\n",
    "    return ner_output"
   ]
  },
  {
   "cell_type": "code",
   "execution_count": 45,
   "id": "067d2f18",
   "metadata": {},
   "outputs": [],
   "source": [
    "df = df.head(10)"
   ]
  },
  {
   "cell_type": "code",
   "execution_count": 46,
   "id": "40205b47",
   "metadata": {},
   "outputs": [
    {
     "data": {
      "text/html": [
       "<div>\n",
       "<style scoped>\n",
       "    .dataframe tbody tr th:only-of-type {\n",
       "        vertical-align: middle;\n",
       "    }\n",
       "\n",
       "    .dataframe tbody tr th {\n",
       "        vertical-align: top;\n",
       "    }\n",
       "\n",
       "    .dataframe thead th {\n",
       "        text-align: right;\n",
       "    }\n",
       "</style>\n",
       "<table border=\"1\" class=\"dataframe\">\n",
       "  <thead>\n",
       "    <tr style=\"text-align: right;\">\n",
       "      <th></th>\n",
       "      <th>episode</th>\n",
       "      <th>script</th>\n",
       "    </tr>\n",
       "  </thead>\n",
       "  <tbody>\n",
       "    <tr>\n",
       "      <th>0</th>\n",
       "      <td>1</td>\n",
       "      <td>A long time ago, a powerful demon fox appeared...</td>\n",
       "    </tr>\n",
       "    <tr>\n",
       "      <th>1</th>\n",
       "      <td>2</td>\n",
       "      <td>C'mon!\\n Running like a fugitive,\\n Being chas...</td>\n",
       "    </tr>\n",
       "    <tr>\n",
       "      <th>2</th>\n",
       "      <td>3</td>\n",
       "      <td>C'mon!\\n Running like a fugitive,\\n Being chas...</td>\n",
       "    </tr>\n",
       "    <tr>\n",
       "      <th>3</th>\n",
       "      <td>4</td>\n",
       "      <td>C'mon!\\n Running like a fugitive,\\n Being chas...</td>\n",
       "    </tr>\n",
       "    <tr>\n",
       "      <th>4</th>\n",
       "      <td>5</td>\n",
       "      <td>C'mon!\\n Running like a fugitive,\\n Being chas...</td>\n",
       "    </tr>\n",
       "    <tr>\n",
       "      <th>5</th>\n",
       "      <td>6</td>\n",
       "      <td>C'mon!\\n Running like a fugitive,\\n Being chas...</td>\n",
       "    </tr>\n",
       "    <tr>\n",
       "      <th>6</th>\n",
       "      <td>7</td>\n",
       "      <td>C'mon!\\n Running like a fugitive,\\n Being chas...</td>\n",
       "    </tr>\n",
       "    <tr>\n",
       "      <th>7</th>\n",
       "      <td>8</td>\n",
       "      <td>C'mon!\\n Running like a fugitive,\\n Being chas...</td>\n",
       "    </tr>\n",
       "    <tr>\n",
       "      <th>8</th>\n",
       "      <td>9</td>\n",
       "      <td>C'mon!\\n Running like a fugitive,\\n Being chas...</td>\n",
       "    </tr>\n",
       "    <tr>\n",
       "      <th>9</th>\n",
       "      <td>12</td>\n",
       "      <td>C'mon!\\n Running like a fugitive,\\n Being chas...</td>\n",
       "    </tr>\n",
       "  </tbody>\n",
       "</table>\n",
       "</div>"
      ],
      "text/plain": [
       "   episode                                             script\n",
       "0        1  A long time ago, a powerful demon fox appeared...\n",
       "1        2  C'mon!\\n Running like a fugitive,\\n Being chas...\n",
       "2        3  C'mon!\\n Running like a fugitive,\\n Being chas...\n",
       "3        4  C'mon!\\n Running like a fugitive,\\n Being chas...\n",
       "4        5  C'mon!\\n Running like a fugitive,\\n Being chas...\n",
       "5        6  C'mon!\\n Running like a fugitive,\\n Being chas...\n",
       "6        7  C'mon!\\n Running like a fugitive,\\n Being chas...\n",
       "7        8  C'mon!\\n Running like a fugitive,\\n Being chas...\n",
       "8        9  C'mon!\\n Running like a fugitive,\\n Being chas...\n",
       "9       12  C'mon!\\n Running like a fugitive,\\n Being chas..."
      ]
     },
     "execution_count": 46,
     "metadata": {},
     "output_type": "execute_result"
    }
   ],
   "source": [
    "df"
   ]
  },
  {
   "cell_type": "code",
   "execution_count": 47,
   "id": "a67bfaf1",
   "metadata": {},
   "outputs": [],
   "source": [
    "df['ners'] = df['script'].apply(get_ners_inference)"
   ]
  },
  {
   "cell_type": "code",
   "execution_count": 48,
   "id": "be28dd68",
   "metadata": {},
   "outputs": [
    {
     "data": {
      "text/html": [
       "<div>\n",
       "<style scoped>\n",
       "    .dataframe tbody tr th:only-of-type {\n",
       "        vertical-align: middle;\n",
       "    }\n",
       "\n",
       "    .dataframe tbody tr th {\n",
       "        vertical-align: top;\n",
       "    }\n",
       "\n",
       "    .dataframe thead th {\n",
       "        text-align: right;\n",
       "    }\n",
       "</style>\n",
       "<table border=\"1\" class=\"dataframe\">\n",
       "  <thead>\n",
       "    <tr style=\"text-align: right;\">\n",
       "      <th></th>\n",
       "      <th>episode</th>\n",
       "      <th>script</th>\n",
       "      <th>ners</th>\n",
       "    </tr>\n",
       "  </thead>\n",
       "  <tbody>\n",
       "    <tr>\n",
       "      <th>0</th>\n",
       "      <td>1</td>\n",
       "      <td>A long time ago, a powerful demon fox appeared...</td>\n",
       "      <td>[{}, {}, {}, {}, {}, {}, {}, {Naruto}, {}, {},...</td>\n",
       "    </tr>\n",
       "    <tr>\n",
       "      <th>1</th>\n",
       "      <td>2</td>\n",
       "      <td>C'mon!\\n Running like a fugitive,\\n Being chas...</td>\n",
       "      <td>[{}, {}, {}, {}, {}, {}, {}, {}, {}, {Konohama...</td>\n",
       "    </tr>\n",
       "    <tr>\n",
       "      <th>2</th>\n",
       "      <td>3</td>\n",
       "      <td>C'mon!\\n Running like a fugitive,\\n Being chas...</td>\n",
       "      <td>[{}, {}, {}, {Sakura, Sasuke}, {}, {Konohamaru...</td>\n",
       "    </tr>\n",
       "    <tr>\n",
       "      <th>3</th>\n",
       "      <td>4</td>\n",
       "      <td>C'mon!\\n Running like a fugitive,\\n Being chas...</td>\n",
       "      <td>[{}, {}, {}, {Naruto}, {}, {}, {Iruka}, {}, {N...</td>\n",
       "    </tr>\n",
       "    <tr>\n",
       "      <th>4</th>\n",
       "      <td>5</td>\n",
       "      <td>C'mon!\\n Running like a fugitive,\\n Being chas...</td>\n",
       "      <td>[{}, {}, {}, {}, {}, {}, {}, {}, {}, {}, {}, {...</td>\n",
       "    </tr>\n",
       "    <tr>\n",
       "      <th>5</th>\n",
       "      <td>6</td>\n",
       "      <td>C'mon!\\n Running like a fugitive,\\n Being chas...</td>\n",
       "      <td>[{}, {}, {Sasuke}, {}, {Naruto}, {}, {Naruto},...</td>\n",
       "    </tr>\n",
       "    <tr>\n",
       "      <th>6</th>\n",
       "      <td>7</td>\n",
       "      <td>C'mon!\\n Running like a fugitive,\\n Being chas...</td>\n",
       "      <td>[{}, {}, {}, {}, {}, {}, {}, {}, {}, {}, {}, {...</td>\n",
       "    </tr>\n",
       "    <tr>\n",
       "      <th>7</th>\n",
       "      <td>8</td>\n",
       "      <td>C'mon!\\n Running like a fugitive,\\n Being chas...</td>\n",
       "      <td>[{}, {}, {}, {}, {}, {}, {}, {Sasuke}, {}, {},...</td>\n",
       "    </tr>\n",
       "    <tr>\n",
       "      <th>8</th>\n",
       "      <td>9</td>\n",
       "      <td>C'mon!\\n Running like a fugitive,\\n Being chas...</td>\n",
       "      <td>[{}, {}, {}, {}, {}, {}, {}, {}, {}, {}, {}, {...</td>\n",
       "    </tr>\n",
       "    <tr>\n",
       "      <th>9</th>\n",
       "      <td>12</td>\n",
       "      <td>C'mon!\\n Running like a fugitive,\\n Being chas...</td>\n",
       "      <td>[{}, {}, {}, {}, {Zabuza}, {}, {}, {}, {Naruto...</td>\n",
       "    </tr>\n",
       "  </tbody>\n",
       "</table>\n",
       "</div>"
      ],
      "text/plain": [
       "   episode                                             script  \\\n",
       "0        1  A long time ago, a powerful demon fox appeared...   \n",
       "1        2  C'mon!\\n Running like a fugitive,\\n Being chas...   \n",
       "2        3  C'mon!\\n Running like a fugitive,\\n Being chas...   \n",
       "3        4  C'mon!\\n Running like a fugitive,\\n Being chas...   \n",
       "4        5  C'mon!\\n Running like a fugitive,\\n Being chas...   \n",
       "5        6  C'mon!\\n Running like a fugitive,\\n Being chas...   \n",
       "6        7  C'mon!\\n Running like a fugitive,\\n Being chas...   \n",
       "7        8  C'mon!\\n Running like a fugitive,\\n Being chas...   \n",
       "8        9  C'mon!\\n Running like a fugitive,\\n Being chas...   \n",
       "9       12  C'mon!\\n Running like a fugitive,\\n Being chas...   \n",
       "\n",
       "                                                ners  \n",
       "0  [{}, {}, {}, {}, {}, {}, {}, {Naruto}, {}, {},...  \n",
       "1  [{}, {}, {}, {}, {}, {}, {}, {}, {}, {Konohama...  \n",
       "2  [{}, {}, {}, {Sakura, Sasuke}, {}, {Konohamaru...  \n",
       "3  [{}, {}, {}, {Naruto}, {}, {}, {Iruka}, {}, {N...  \n",
       "4  [{}, {}, {}, {}, {}, {}, {}, {}, {}, {}, {}, {...  \n",
       "5  [{}, {}, {Sasuke}, {}, {Naruto}, {}, {Naruto},...  \n",
       "6  [{}, {}, {}, {}, {}, {}, {}, {}, {}, {}, {}, {...  \n",
       "7  [{}, {}, {}, {}, {}, {}, {}, {Sasuke}, {}, {},...  \n",
       "8  [{}, {}, {}, {}, {}, {}, {}, {}, {}, {}, {}, {...  \n",
       "9  [{}, {}, {}, {}, {Zabuza}, {}, {}, {}, {Naruto...  "
      ]
     },
     "execution_count": 48,
     "metadata": {},
     "output_type": "execute_result"
    }
   ],
   "source": [
    "df"
   ]
  },
  {
   "cell_type": "code",
   "execution_count": null,
   "id": "d280c67c",
   "metadata": {},
   "outputs": [],
   "source": []
  },
  {
   "cell_type": "markdown",
   "id": "9f713f0c",
   "metadata": {},
   "source": [
    "# Character Network"
   ]
  },
  {
   "cell_type": "code",
   "execution_count": 56,
   "id": "2b4f496c",
   "metadata": {},
   "outputs": [],
   "source": [
    "import pandas as pd\n",
    "import matplotlib.pyplot as pathlib\n",
    "import networkx as nx\n",
    "from pyvis.network import Network"
   ]
  },
  {
   "cell_type": "code",
   "execution_count": 52,
   "id": "4d038e71",
   "metadata": {},
   "outputs": [],
   "source": [
    "def generate_character_network(df):\n",
    "    windows = 10\n",
    "    entity_relationship = []\n",
    "\n",
    "    for row in df['ners']:\n",
    "        previous_entities_in_window=[]\n",
    "\n",
    "        for sentence in row:\n",
    "            previous_entities_in_window.append(list(sentence))\n",
    "            previous_entities_in_window = previous_entities_in_window[-windows:]\n",
    "\n",
    "            # Flatten 2D List into 1D List\n",
    "            previous_entities_flattened = sum(previous_entities_in_window, [])\n",
    "\n",
    "            for entity in sentence:\n",
    "                for entity_in_window in previous_entities_flattened:\n",
    "                    if entity != entity_in_window:\n",
    "                        entity_relationship.append(sorted([entity, entity_in_window]))\n",
    "        \n",
    "    relationship_df = pd.DataFrame({'value': entity_relationship})\n",
    "    relationship_df['source'] = relationship_df['value'].apply(lambda x: x[0])\n",
    "    relationship_df['target'] = relationship_df['value'].apply(lambda x: x[1])\n",
    "    relationship_df = relationship_df.groupby(['source', 'target']).count().reset_index()\n",
    "    relationship_df= relationship_df.sort_values('value', ascending=False)\n",
    "\n",
    "    return relationship_df\n",
    "\n"
   ]
  },
  {
   "cell_type": "code",
   "execution_count": 53,
   "id": "d161609e",
   "metadata": {},
   "outputs": [],
   "source": [
    "relationship_df = generate_character_network(df)"
   ]
  },
  {
   "cell_type": "code",
   "execution_count": 54,
   "id": "802a1627",
   "metadata": {},
   "outputs": [
    {
     "data": {
      "text/html": [
       "<div>\n",
       "<style scoped>\n",
       "    .dataframe tbody tr th:only-of-type {\n",
       "        vertical-align: middle;\n",
       "    }\n",
       "\n",
       "    .dataframe tbody tr th {\n",
       "        vertical-align: top;\n",
       "    }\n",
       "\n",
       "    .dataframe thead th {\n",
       "        text-align: right;\n",
       "    }\n",
       "</style>\n",
       "<table border=\"1\" class=\"dataframe\">\n",
       "  <thead>\n",
       "    <tr style=\"text-align: right;\">\n",
       "      <th></th>\n",
       "      <th>source</th>\n",
       "      <th>target</th>\n",
       "      <th>value</th>\n",
       "    </tr>\n",
       "  </thead>\n",
       "  <tbody>\n",
       "    <tr>\n",
       "      <th>164</th>\n",
       "      <td>Naruto</td>\n",
       "      <td>Sasuke</td>\n",
       "      <td>122</td>\n",
       "    </tr>\n",
       "    <tr>\n",
       "      <th>203</th>\n",
       "      <td>Sakura</td>\n",
       "      <td>Sasuke</td>\n",
       "      <td>69</td>\n",
       "    </tr>\n",
       "    <tr>\n",
       "      <th>90</th>\n",
       "      <td>Iruka</td>\n",
       "      <td>Naruto</td>\n",
       "      <td>45</td>\n",
       "    </tr>\n",
       "    <tr>\n",
       "      <th>163</th>\n",
       "      <td>Naruto</td>\n",
       "      <td>Sakura</td>\n",
       "      <td>40</td>\n",
       "    </tr>\n",
       "    <tr>\n",
       "      <th>155</th>\n",
       "      <td>Mizuki</td>\n",
       "      <td>Naruto</td>\n",
       "      <td>29</td>\n",
       "    </tr>\n",
       "    <tr>\n",
       "      <th>...</th>\n",
       "      <td>...</td>\n",
       "      <td>...</td>\n",
       "      <td>...</td>\n",
       "    </tr>\n",
       "    <tr>\n",
       "      <th>247</th>\n",
       "      <td>Tori</td>\n",
       "      <td>Ushi</td>\n",
       "      <td>1</td>\n",
       "    </tr>\n",
       "    <tr>\n",
       "      <th>6</th>\n",
       "      <td>Choji</td>\n",
       "      <td>Naruto</td>\n",
       "      <td>1</td>\n",
       "    </tr>\n",
       "    <tr>\n",
       "      <th>5</th>\n",
       "      <td>Choji</td>\n",
       "      <td>Iruka</td>\n",
       "      <td>1</td>\n",
       "    </tr>\n",
       "    <tr>\n",
       "      <th>4</th>\n",
       "      <td>Choji</td>\n",
       "      <td>Ino</td>\n",
       "      <td>1</td>\n",
       "    </tr>\n",
       "    <tr>\n",
       "      <th>3</th>\n",
       "      <td>Choji</td>\n",
       "      <td>Fatty</td>\n",
       "      <td>1</td>\n",
       "    </tr>\n",
       "  </tbody>\n",
       "</table>\n",
       "<p>268 rows × 3 columns</p>\n",
       "</div>"
      ],
      "text/plain": [
       "     source  target  value\n",
       "164  Naruto  Sasuke    122\n",
       "203  Sakura  Sasuke     69\n",
       "90    Iruka  Naruto     45\n",
       "163  Naruto  Sakura     40\n",
       "155  Mizuki  Naruto     29\n",
       "..      ...     ...    ...\n",
       "247    Tori    Ushi      1\n",
       "6     Choji  Naruto      1\n",
       "5     Choji   Iruka      1\n",
       "4     Choji     Ino      1\n",
       "3     Choji   Fatty      1\n",
       "\n",
       "[268 rows x 3 columns]"
      ]
     },
     "execution_count": 54,
     "metadata": {},
     "output_type": "execute_result"
    }
   ],
   "source": [
    "relationship_df"
   ]
  },
  {
   "cell_type": "code",
   "execution_count": 55,
   "id": "a122c12d",
   "metadata": {},
   "outputs": [],
   "source": [
    "relationship_df = relationship_df.sort_values('value', ascending=False)\n",
    "relationship_df = relationship_df.head(200)"
   ]
  },
  {
   "cell_type": "code",
   "execution_count": 59,
   "id": "8914df2b",
   "metadata": {},
   "outputs": [
    {
     "name": "stdout",
     "output_type": "stream",
     "text": [
      "naruto.html\n"
     ]
    },
    {
     "data": {
      "text/html": [
       "\n",
       "        <iframe\n",
       "            width=\"1000px\"\n",
       "            height=\"700px\"\n",
       "            src=\"naruto.html\"\n",
       "            frameborder=\"0\"\n",
       "            allowfullscreen\n",
       "            \n",
       "        ></iframe>\n",
       "        "
      ],
      "text/plain": [
       "<IPython.lib.display.IFrame at 0x251234e33e0>"
      ]
     },
     "execution_count": 59,
     "metadata": {},
     "output_type": "execute_result"
    }
   ],
   "source": [
    "G = nx.from_pandas_edgelist(\n",
    "    relationship_df,\n",
    "    source='source',\n",
    "    target='target',\n",
    "    edge_attr='value',\n",
    "    create_using=nx.Graph()\n",
    ")\n",
    "\n",
    "net = Network(notebook=True, width=\"1000px\", height=\"700px\", bgcolor=\"#222222\", font_color=\"white\", cdn_resources=\"remote\")\n",
    "node_degree = dict(G.degree)\n",
    "\n",
    "nx.set_node_attributes(G, node_degree, 'size')\n",
    "net.from_nx(G)\n",
    "net.show(\"naruto.html\")\n",
    "\n"
   ]
  },
  {
   "cell_type": "code",
   "execution_count": null,
   "id": "96ef9584",
   "metadata": {},
   "outputs": [],
   "source": []
  },
  {
   "cell_type": "code",
   "execution_count": null,
   "id": "e4f06ba2",
   "metadata": {},
   "outputs": [],
   "source": []
  },
  {
   "cell_type": "code",
   "execution_count": null,
   "id": "9c4c5af9",
   "metadata": {},
   "outputs": [],
   "source": []
  },
  {
   "cell_type": "code",
   "execution_count": null,
   "id": "f0ef9141",
   "metadata": {},
   "outputs": [],
   "source": []
  },
  {
   "cell_type": "code",
   "execution_count": null,
   "id": "63727546",
   "metadata": {},
   "outputs": [],
   "source": []
  },
  {
   "cell_type": "code",
   "execution_count": null,
   "metadata": {},
   "outputs": [],
   "source": []
  },
  {
   "cell_type": "code",
   "execution_count": null,
   "id": "d34daf93",
   "metadata": {},
   "outputs": [],
   "source": []
  },
  {
   "cell_type": "code",
   "execution_count": null,
   "id": "ef96fd30",
   "metadata": {},
   "outputs": [],
   "source": []
  },
  {
   "cell_type": "code",
   "execution_count": null,
   "id": "166e95c1",
   "metadata": {},
   "outputs": [],
   "source": []
  }
 ],
 "metadata": {
  "kernelspec": {
   "display_name": ".venv",
   "language": "python",
   "name": "python3"
  },
  "language_info": {
   "codemirror_mode": {
    "name": "ipython",
    "version": 3
   },
   "file_extension": ".py",
   "mimetype": "text/x-python",
   "name": "python",
   "nbconvert_exporter": "python",
   "pygments_lexer": "ipython3",
   "version": "3.12.10"
  }
 },
 "nbformat": 4,
 "nbformat_minor": 5
}
